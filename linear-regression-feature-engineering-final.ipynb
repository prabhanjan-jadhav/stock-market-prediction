{
 "cells": [
  {
   "attachments": {},
   "cell_type": "markdown",
   "metadata": {},
   "source": [
    "<h1 style = \"font-size:45px; font-family:Garamond ; font-weight : normal; background-color: #f6f5f5 ; color : #fe346e; text-align: center; border-radius: 100px 100px;\">STOCK PRICE PREDICTION</h1>\n",
    "\n",
    "# <span><h1 style = \"font-family: garamond; font-size: 40px; font-style: normal; letter-spcaing: 3px; background-color: #f6f5f5; color :#fe346e; border-radius: 100px 100px; text-align:center\">1. Import Required Libraries 📚</h1></span>"
   ]
  },
  {
   "cell_type": "code",
   "execution_count": 311,
   "metadata": {
    "execution": {
     "iopub.execute_input": "2023-02-21T19:24:43.395297Z",
     "iopub.status.busy": "2023-02-21T19:24:43.394874Z",
     "iopub.status.idle": "2023-02-21T19:24:43.404124Z",
     "shell.execute_reply": "2023-02-21T19:24:43.403195Z",
     "shell.execute_reply.started": "2023-02-21T19:24:43.395264Z"
    }
   },
   "outputs": [],
   "source": [
    "import itertools\n",
    "import math\n",
    "import time\n",
    "import operator\n",
    "import datetime\n",
    "import requests\n",
    "import os\n",
    "import warnings\n",
    "\n",
    "import numpy as np\n",
    "import pandas as pd\n",
    "import seaborn as sns\n",
    "import matplotlib.pyplot as plt\n",
    "\n",
    "from pandas import datetime\n",
    "from sklearn import preprocessing\n",
    "from sklearn.metrics import mean_squared_error\n",
    "from sklearn.linear_model import LinearRegression\n",
    "from xgboost import XGBRegressor\n",
    "from sklearn.neighbors import KNeighborsRegressor\n",
    "from sklearn.svm import SVR\n",
    "from sklearn.pipeline import make_pipeline\n",
    "from sklearn.preprocessing import StandardScaler\n",
    "from math import sqrt\n",
    "\n",
    "import keras\n",
    "import h5py\n",
    "import h2o\n",
    "from h2o.automl import H2OAutoML\n",
    "from keras.models import Sequential, load_model\n",
    "from keras.layers.core import Dense, Dropout, Activation\n",
    "# from keras.layers.recurrent import LSTM\n",
    "from sklearn.preprocessing import MinMaxScaler\n",
    "\n",
    "import warnings\n",
    "warnings.filterwarnings('ignore')"
   ]
  },
  {
   "cell_type": "code",
   "execution_count": 312,
   "metadata": {
    "execution": {
     "iopub.execute_input": "2023-02-21T19:24:43.415988Z",
     "iopub.status.busy": "2023-02-21T19:24:43.415240Z",
     "iopub.status.idle": "2023-02-21T19:24:43.469721Z",
     "shell.execute_reply": "2023-02-21T19:24:43.468451Z",
     "shell.execute_reply.started": "2023-02-21T19:24:43.415925Z"
    }
   },
   "outputs": [
    {
     "name": "stdout",
     "output_type": "stream",
     "text": [
      "         Date  Open  High   Low  Close  Adj Close        Volume\n",
      "0  2010-06-29  9.50  9.47  9.23   9.04       7.93  1.133345e+09\n",
      "1  2010-06-30  9.25  9.22  9.00   8.70       7.52  7.394520e+08\n",
      "2  2010-07-01  9.01  9.02  8.63   8.94       7.45  1.022896e+09\n",
      "3  2010-07-02  8.98  8.96  8.74   8.85       7.68  6.938428e+08\n",
      "4  2010-07-06  9.13  9.13  8.61   9.36       7.68  6.152356e+08\n",
      "         Date  Open  High   Low  Close  Adj Close       Volume\n",
      "0  29-06-2010  1.05  1.67  1.24   1.69       1.64  281494500.0\n",
      "1  30-06-2010  1.64  2.02  1.56   1.43       1.69  257806500.0\n",
      "2  01-07-2010  1.85  1.83  1.24   1.46       1.26  123282000.0\n",
      "3  02-07-2010  1.56  1.59  1.18   1.14       1.27   77097000.0\n",
      "4  06-07-2010  1.19  1.19  1.30   0.94       1.05  103003500.0\n",
      "         Date  Open  High   Low  Close  Adj Close      Volume\n",
      "0  2010-06-29  2.76  2.63  2.48   2.59       2.38  66080800.0\n",
      "1  2010-06-30  2.62  2.54  2.73   2.46       2.15  62307200.0\n",
      "2  2010-07-01  2.48  2.46  2.55   2.66       2.46  73700800.0\n",
      "3  2010-07-02  2.79  2.74  2.52   2.41       2.41  73709600.0\n",
      "4  2010-07-06  2.34  2.60  2.69   2.60       2.26  71202000.0\n",
      "         Date  Open  High   Low  Close  Adj Close       Volume\n",
      "0  2010-06-29  5.73  5.94  5.19   5.49       5.52  257326000.0\n",
      "1  2010-06-30  5.49  5.73  5.28   5.38       5.36  194814000.0\n",
      "2  2010-07-01  5.48  5.61  5.47   5.45       5.65  170596000.0\n",
      "3  2010-07-02  5.64  5.45  5.56   5.54       5.42   89542000.0\n",
      "4  2010-07-06  5.58  5.49  5.44   5.67       5.61  104386000.0\n"
     ]
    }
   ],
   "source": [
    "# Define the list of training files\n",
    "train_files = ['/kaggle/input/kriti-stock-market-prediction/1_train.csv',\n",
    " '/kaggle/input/kriti-stock-market-prediction/4_train.csv',\n",
    "'/kaggle/input/kriti-stock-market-prediction/3_train.csv',\n",
    "'/kaggle/input/kriti-stock-market-prediction/2_train.csv']\n",
    "# Create an empty dictionary to store the models\n",
    "models = {}\n",
    "\n",
    "\n",
    "# Loop through each training file\n",
    "for file in train_files:\n",
    "    # Load the training data\n",
    "    train_data = pd.read_csv(file)\n",
    "    print(train_data.head())\n",
    "#     print(train_data.shape)"
   ]
  },
  {
   "cell_type": "code",
   "execution_count": 313,
   "metadata": {
    "execution": {
     "iopub.execute_input": "2023-02-21T19:24:43.472739Z",
     "iopub.status.busy": "2023-02-21T19:24:43.471833Z",
     "iopub.status.idle": "2023-02-21T19:24:43.540929Z",
     "shell.execute_reply": "2023-02-21T19:24:43.539793Z",
     "shell.execute_reply.started": "2023-02-21T19:24:43.472702Z"
    }
   },
   "outputs": [],
   "source": [
    "train = []\n",
    "\n",
    "test = pd.read_csv('/kaggle/input/kriti-stock-market-prediction/test.csv')\n",
    "test['Date'] = pd.to_datetime(test.Date)\n",
    "sub = pd.DataFrame(test['ID'])\n",
    "sub['Close'] = np.nan\n",
    "test.drop(['ID'], axis=1, inplace=True)\n",
    "test['is_test'] = 1 # we will be combining train and test dataframes\n",
    "\n",
    "for i in range(4):\n",
    "    train.append(pd.read_csv('/kaggle/input/kriti-stock-market-prediction/'+f'{i+1}_train.csv'))\n",
    "    train[i]['Date'] = pd.to_datetime(train[i].Date)\n",
    "    train[i]['Company'] = i+1\n",
    "    train[i]['is_test'] = 0 \n",
    "    train[i] = pd.concat([train[i], test[test['Company'] == i+1]])\n",
    "    train[i].sort_values(by='Date', inplace = True)\n",
    "    train[i].drop(['Company'], axis=1, inplace=True)"
   ]
  },
  {
   "cell_type": "code",
   "execution_count": 314,
   "metadata": {
    "execution": {
     "iopub.execute_input": "2023-02-21T19:24:43.542773Z",
     "iopub.status.busy": "2023-02-21T19:24:43.542328Z",
     "iopub.status.idle": "2023-02-21T19:24:43.561256Z",
     "shell.execute_reply": "2023-02-21T19:24:43.560033Z",
     "shell.execute_reply.started": "2023-02-21T19:24:43.542723Z"
    }
   },
   "outputs": [
    {
     "data": {
      "text/html": [
       "<div>\n",
       "<style scoped>\n",
       "    .dataframe tbody tr th:only-of-type {\n",
       "        vertical-align: middle;\n",
       "    }\n",
       "\n",
       "    .dataframe tbody tr th {\n",
       "        vertical-align: top;\n",
       "    }\n",
       "\n",
       "    .dataframe thead th {\n",
       "        text-align: right;\n",
       "    }\n",
       "</style>\n",
       "<table border=\"1\" class=\"dataframe\">\n",
       "  <thead>\n",
       "    <tr style=\"text-align: right;\">\n",
       "      <th></th>\n",
       "      <th>Date</th>\n",
       "      <th>Open</th>\n",
       "      <th>High</th>\n",
       "      <th>Low</th>\n",
       "      <th>Close</th>\n",
       "      <th>Adj Close</th>\n",
       "      <th>Volume</th>\n",
       "      <th>is_test</th>\n",
       "    </tr>\n",
       "  </thead>\n",
       "  <tbody>\n",
       "    <tr>\n",
       "      <th>0</th>\n",
       "      <td>2010-06-29</td>\n",
       "      <td>9.50</td>\n",
       "      <td>9.47</td>\n",
       "      <td>9.23</td>\n",
       "      <td>9.04</td>\n",
       "      <td>7.93</td>\n",
       "      <td>1.133345e+09</td>\n",
       "      <td>0</td>\n",
       "    </tr>\n",
       "    <tr>\n",
       "      <th>1</th>\n",
       "      <td>2010-06-30</td>\n",
       "      <td>9.25</td>\n",
       "      <td>9.22</td>\n",
       "      <td>9.00</td>\n",
       "      <td>8.70</td>\n",
       "      <td>7.52</td>\n",
       "      <td>7.394520e+08</td>\n",
       "      <td>0</td>\n",
       "    </tr>\n",
       "    <tr>\n",
       "      <th>2</th>\n",
       "      <td>2010-07-01</td>\n",
       "      <td>9.01</td>\n",
       "      <td>9.02</td>\n",
       "      <td>8.63</td>\n",
       "      <td>8.94</td>\n",
       "      <td>7.45</td>\n",
       "      <td>1.022896e+09</td>\n",
       "      <td>0</td>\n",
       "    </tr>\n",
       "    <tr>\n",
       "      <th>3</th>\n",
       "      <td>2010-07-02</td>\n",
       "      <td>8.98</td>\n",
       "      <td>8.96</td>\n",
       "      <td>8.74</td>\n",
       "      <td>8.85</td>\n",
       "      <td>7.68</td>\n",
       "      <td>6.938428e+08</td>\n",
       "      <td>0</td>\n",
       "    </tr>\n",
       "    <tr>\n",
       "      <th>4</th>\n",
       "      <td>2010-07-06</td>\n",
       "      <td>9.13</td>\n",
       "      <td>9.13</td>\n",
       "      <td>8.61</td>\n",
       "      <td>9.36</td>\n",
       "      <td>7.68</td>\n",
       "      <td>6.152356e+08</td>\n",
       "      <td>0</td>\n",
       "    </tr>\n",
       "  </tbody>\n",
       "</table>\n",
       "</div>"
      ],
      "text/plain": [
       "        Date  Open  High   Low  Close  Adj Close        Volume  is_test\n",
       "0 2010-06-29  9.50  9.47  9.23   9.04       7.93  1.133345e+09        0\n",
       "1 2010-06-30  9.25  9.22  9.00   8.70       7.52  7.394520e+08        0\n",
       "2 2010-07-01  9.01  9.02  8.63   8.94       7.45  1.022896e+09        0\n",
       "3 2010-07-02  8.98  8.96  8.74   8.85       7.68  6.938428e+08        0\n",
       "4 2010-07-06  9.13  9.13  8.61   9.36       7.68  6.152356e+08        0"
      ]
     },
     "execution_count": 314,
     "metadata": {},
     "output_type": "execute_result"
    }
   ],
   "source": [
    "train[0].head()"
   ]
  },
  {
   "cell_type": "markdown",
   "metadata": {},
   "source": [
    "# <span><h1 style = \"font-family: garamond; font-size: 40px; font-style: normal; letter-spcaing: 3px; background-color: #f6f5f5; color :#fe346e; border-radius: 100px 100px; text-align:center\">2. Data Preprocessing</h1></span>"
   ]
  },
  {
   "cell_type": "code",
   "execution_count": 315,
   "metadata": {
    "execution": {
     "iopub.execute_input": "2023-02-21T19:24:43.564387Z",
     "iopub.status.busy": "2023-02-21T19:24:43.564004Z",
     "iopub.status.idle": "2023-02-21T19:24:43.627716Z",
     "shell.execute_reply": "2023-02-21T19:24:43.626519Z",
     "shell.execute_reply.started": "2023-02-21T19:24:43.564354Z"
    }
   },
   "outputs": [],
   "source": [
    "# Creating lags using last 15 days Open prices, Adj Close prices\n",
    "for i in range(4):\n",
    "    for j in range(15):\n",
    "        train[i][f'Lag_Open_{j+1}'] = train[i]['Open'].shift(j+1)\n",
    "        train[i][f'Lag_Adj_Close_{j+1}'] = train[i]['Adj Close'].shift(j+1)    "
   ]
  },
  {
   "cell_type": "code",
   "execution_count": 316,
   "metadata": {
    "execution": {
     "iopub.execute_input": "2023-02-21T19:24:43.630350Z",
     "iopub.status.busy": "2023-02-21T19:24:43.629404Z",
     "iopub.status.idle": "2023-02-21T19:24:43.656560Z",
     "shell.execute_reply": "2023-02-21T19:24:43.655513Z",
     "shell.execute_reply.started": "2023-02-21T19:24:43.630305Z"
    }
   },
   "outputs": [],
   "source": [
    "# Creating a feature of sum of last 2 days Volume\n",
    "for i in range(4):\n",
    "    for j in range(2):\n",
    "        train[i][f'Lag_Volume_{j+1}'] = train[i]['Volume'].shift(j+1)\n",
    "    train[i]['Lag_Volume'] = train[i]['Lag_Volume_1'] + train[i]['Lag_Volume_2']\n",
    "    train[i].drop(['Lag_Volume_1', 'Lag_Volume_2'], axis=1, inplace=True)"
   ]
  },
  {
   "cell_type": "code",
   "execution_count": 317,
   "metadata": {
    "execution": {
     "iopub.execute_input": "2023-02-21T19:24:43.658603Z",
     "iopub.status.busy": "2023-02-21T19:24:43.658280Z",
     "iopub.status.idle": "2023-02-21T19:24:43.754143Z",
     "shell.execute_reply": "2023-02-21T19:24:43.752837Z",
     "shell.execute_reply.started": "2023-02-21T19:24:43.658572Z"
    }
   },
   "outputs": [],
   "source": [
    "# Creating lags using last 15 days High and Low price and Volume\n",
    "for i in range(4):\n",
    "    for j in range(15):\n",
    "        train[i][f'Lag_Volume_{j+1}'] = train[i]['Volume'].shift(j+1)\n",
    "        train[i][f'Lag_High_{j+1}'] = train[i]['High'].shift(j+1)\n",
    "        train[i][f'Lag_Low_{j+1}'] = train[i]['Low'].shift(j+1)  "
   ]
  },
  {
   "cell_type": "code",
   "execution_count": 318,
   "metadata": {
    "execution": {
     "iopub.execute_input": "2023-02-21T19:24:43.756898Z",
     "iopub.status.busy": "2023-02-21T19:24:43.755721Z",
     "iopub.status.idle": "2023-02-21T19:24:43.796236Z",
     "shell.execute_reply": "2023-02-21T19:24:43.795149Z",
     "shell.execute_reply.started": "2023-02-21T19:24:43.756861Z"
    }
   },
   "outputs": [],
   "source": [
    "# Creating features Day of Week(removed), Date of Month(removed), Week of Year, Month, Year\n",
    "for i in range(4):\n",
    "    train[i]['Day_of_Week'] = train[i]['Date'].dt.dayofweek\n",
    "    train[i]['Date_of_Month'] = train[i]['Date'].dt.day\n",
    "    train[i]['Week_of_Year'] = train[i]['Date'].dt.week\n",
    "    train[i]['Month'] = train[i]['Date'].dt.month\n",
    "    train[i]['Year'] = train[i]['Date'].dt.year"
   ]
  },
  {
   "cell_type": "code",
   "execution_count": 319,
   "metadata": {
    "execution": {
     "iopub.execute_input": "2023-02-21T19:24:43.798153Z",
     "iopub.status.busy": "2023-02-21T19:24:43.797816Z",
     "iopub.status.idle": "2023-02-21T19:24:43.832182Z",
     "shell.execute_reply": "2023-02-21T19:24:43.831034Z",
     "shell.execute_reply.started": "2023-02-21T19:24:43.798123Z"
    }
   },
   "outputs": [],
   "source": [
    "# Creating features Quarter, (is_month_start, is_month_end, is_quarter_start, is_quarter_end, is_year_end)(removed)\n",
    "\n",
    "for i in range(4):\n",
    "    train[i]['Quarter_of_Year'] = train[i]['Date'].dt.quarter\n",
    "    train[i]['is_month_start'] = train[i]['Date'].dt.is_month_start.astype(int)\n",
    "    train[i]['is_month_end'] = train[i]['Date'].dt.is_month_end.astype(int)\n",
    "    train[i]['is_quarter_start'] = train[i]['Date'].dt.is_quarter_start.astype(int)\n",
    "    train[i]['is_quarter_end'] = train[i]['Date'].dt.is_quarter_end.astype(int)\n",
    "    train[i]['is_year_end'] = train[i]['Date'].dt.is_year_end.astype(int)"
   ]
  },
  {
   "cell_type": "code",
   "execution_count": 320,
   "metadata": {
    "execution": {
     "iopub.execute_input": "2023-02-21T19:24:43.834154Z",
     "iopub.status.busy": "2023-02-21T19:24:43.833774Z",
     "iopub.status.idle": "2023-02-21T19:24:43.846092Z",
     "shell.execute_reply": "2023-02-21T19:24:43.845226Z",
     "shell.execute_reply.started": "2023-02-21T19:24:43.834122Z"
    }
   },
   "outputs": [],
   "source": [
    "# Adding feature (High+Low)/2, (High*Low)**0.5\n",
    "for i in range(4):\n",
    "    train[i]['HighnLow'] = (train[i]['High'] + train[i]['Low'])/2\n",
    "    train[i]['sqrtHighLow'] = (train[i]['High']*train[i]['Low'])**0.5"
   ]
  },
  {
   "cell_type": "code",
   "execution_count": 321,
   "metadata": {
    "execution": {
     "iopub.execute_input": "2023-02-21T19:24:43.849933Z",
     "iopub.status.busy": "2023-02-21T19:24:43.849574Z",
     "iopub.status.idle": "2023-02-21T19:24:43.895006Z",
     "shell.execute_reply": "2023-02-21T19:24:43.893913Z",
     "shell.execute_reply.started": "2023-02-21T19:24:43.849904Z"
    }
   },
   "outputs": [],
   "source": [
    "# Creating feature using scaled volume\n",
    "for i in range(4):\n",
    "    scaler = MinMaxScaler()\n",
    "    volume_scaled = scaler.fit_transform(pd.DataFrame(train[i]['Volume']))\n",
    "    train[i]['Volume_scaled'] = volume_scaled\n",
    "    train[i].drop(['Volume'], 1, inplace=True)"
   ]
  },
  {
   "cell_type": "markdown",
   "metadata": {},
   "source": [
    "#### 2.1 Handling cyclic features like month\n",
    "Doesn't work for day of week, date of month, month, week of year, graph comes linear not circular"
   ]
  },
  {
   "cell_type": "code",
   "execution_count": 322,
   "metadata": {
    "execution": {
     "iopub.execute_input": "2023-02-21T19:24:43.896589Z",
     "iopub.status.busy": "2023-02-21T19:24:43.896278Z",
     "iopub.status.idle": "2023-02-21T19:24:44.935449Z",
     "shell.execute_reply": "2023-02-21T19:24:44.934279Z",
     "shell.execute_reply.started": "2023-02-21T19:24:43.896561Z"
    },
    "scrolled": true
   },
   "outputs": [
    {
     "data": {
      "text/plain": [
       "<Figure size 432x288 with 0 Axes>"
      ]
     },
     "metadata": {},
     "output_type": "display_data"
    },
    {
     "data": {
      "image/png": "[encoded data removed]",
      "text/plain": [
       "<Figure size 1440x360 with 1 Axes>"
      ]
     },
     "metadata": {
      "needs_background": "light"
     },
     "output_type": "display_data"
    },
    {
     "data": {
      "text/plain": [
       "<Figure size 432x288 with 0 Axes>"
      ]
     },
     "metadata": {},
     "output_type": "display_data"
    },
    {
     "data": {
      "image/png": "[encoded data removed]",
      "text/plain": [
       "<Figure size 1440x360 with 1 Axes>"
      ]
     },
     "metadata": {
      "needs_background": "light"
     },
     "output_type": "display_data"
    },
    {
     "data": {
      "text/plain": [
       "<Figure size 432x288 with 0 Axes>"
      ]
     },
     "metadata": {},
     "output_type": "display_data"
    },
    {
     "data": {
      "image/png": "[encoded data removed]",
      "text/plain": [
       "<Figure size 1440x360 with 1 Axes>"
      ]
     },
     "metadata": {
      "needs_background": "light"
     },
     "output_type": "display_data"
    },
    {
     "data": {
      "text/plain": [
       "<Figure size 432x288 with 0 Axes>"
      ]
     },
     "metadata": {},
     "output_type": "display_data"
    },
    {
     "data": {
      "image/png": "[encoded data removed]",
      "text/plain": [
       "<Figure size 1440x360 with 1 Axes>"
      ]
     },
     "metadata": {
      "needs_background": "light"
     },
     "output_type": "display_data"
    }
   ],
   "source": [
    "for i in range(4):\n",
    "    plt.figure()\n",
    "    f, ax = plt.subplots(nrows=1, ncols=1, figsize=(20, 5))\n",
    "    ax.plot(train[i]['Date'], train[i]['Month'], color='dodgerblue')\n",
    "    plt.show()"
   ]
  },
  {
   "cell_type": "code",
   "execution_count": 323,
   "metadata": {
    "execution": {
     "iopub.execute_input": "2023-02-21T19:24:44.937743Z",
     "iopub.status.busy": "2023-02-21T19:24:44.936869Z",
     "iopub.status.idle": "2023-02-21T19:24:45.645322Z",
     "shell.execute_reply": "2023-02-21T19:24:45.644440Z",
     "shell.execute_reply.started": "2023-02-21T19:24:44.937708Z"
    }
   },
   "outputs": [
    {
     "data": {
      "image/png": "[encoded data removed]",
      "text/plain": [
       "<Figure size 864x864 with 4 Axes>"
      ]
     },
     "metadata": {
      "needs_background": "light"
     },
     "output_type": "display_data"
    }
   ],
   "source": [
    "month_in_year = 12\n",
    "\n",
    "f, ax = plt.subplots(nrows=2, ncols=2, figsize=(12, 12))\n",
    "\n",
    "for i in range(4):\n",
    "    day_in_week = train[i]['Day_of_Week'].nunique()\n",
    "    date_in_month = train[i]['Date_of_Month'].nunique()\n",
    "    week_in_year = train[i]['Week_of_Year'].nunique()\n",
    "    \n",
    "    train[i]['month_sin'] = np.sin(2*np.pi*train[i]['Month']/month_in_year)\n",
    "    train[i]['month_cos'] = np.cos(2*np.pi*train[i]['Month']/month_in_year)\n",
    "    train[i]['day_sin'] = np.sin(2*np.pi*train[i]['Day_of_Week']/day_in_week)\n",
    "    train[i]['day_cos'] = np.sin(2*np.pi*train[i]['Day_of_Week']/day_in_week)\n",
    "    train[i]['date_sin'] = np.sin(2*np.pi*train[i]['Date_of_Month']/date_in_month)\n",
    "    train[i]['date_cos'] = np.sin(2*np.pi*train[i]['Date_of_Month']/date_in_month)\n",
    "    train[i]['week_sin'] = np.sin(2*np.pi*train[i]['Week_of_Year']/week_in_year)\n",
    "    train[i]['week_cos'] = np.sin(2*np.pi*train[i]['Week_of_Year']/week_in_year)\n",
    "    sns.scatterplot(x=train[i].month_sin, y=train[i].month_cos, color='dodgerblue', ax=ax[i//2][i%2])\n",
    "\n",
    "plt.show()"
   ]
  },
  {
   "cell_type": "code",
   "execution_count": 324,
   "metadata": {
    "execution": {
     "iopub.execute_input": "2023-02-21T19:24:45.647255Z",
     "iopub.status.busy": "2023-02-21T19:24:45.646891Z",
     "iopub.status.idle": "2023-02-21T19:24:45.654424Z",
     "shell.execute_reply": "2023-02-21T19:24:45.653233Z",
     "shell.execute_reply.started": "2023-02-21T19:24:45.647224Z"
    }
   },
   "outputs": [
    {
     "data": {
      "text/plain": [
       "Index(['Date', 'Open', 'High', 'Low', 'Close', 'Adj Close', 'is_test',\n",
       "       'Lag_Open_1', 'Lag_Adj_Close_1', 'Lag_Open_2',\n",
       "       ...\n",
       "       'sqrtHighLow', 'Volume_scaled', 'month_sin', 'month_cos', 'day_sin',\n",
       "       'day_cos', 'date_sin', 'date_cos', 'week_sin', 'week_cos'],\n",
       "      dtype='object', length=105)"
      ]
     },
     "execution_count": 324,
     "metadata": {},
     "output_type": "execute_result"
    }
   ],
   "source": [
    "train[0].columns"
   ]
  },
  {
   "cell_type": "code",
   "execution_count": 325,
   "metadata": {
    "execution": {
     "iopub.execute_input": "2023-02-21T19:24:45.656701Z",
     "iopub.status.busy": "2023-02-21T19:24:45.656325Z",
     "iopub.status.idle": "2023-02-21T19:24:45.683529Z",
     "shell.execute_reply": "2023-02-21T19:24:45.682315Z",
     "shell.execute_reply.started": "2023-02-21T19:24:45.656667Z"
    }
   },
   "outputs": [],
   "source": [
    "# Dropping the Date and Month\n",
    "# Moving the Close column to the right side of the dataframe\n",
    "\n",
    "for i in range(4):\n",
    "    train[i].drop(['Date', 'Month'], axis=1, inplace=True)\n",
    "    train[i] = train[i].reindex(columns = [col for col in train[i].columns if col != 'Close'] + ['Close'])"
   ]
  },
  {
   "cell_type": "code",
   "execution_count": 326,
   "metadata": {
    "execution": {
     "iopub.execute_input": "2023-02-21T19:24:45.685479Z",
     "iopub.status.busy": "2023-02-21T19:24:45.685129Z",
     "iopub.status.idle": "2023-02-21T19:24:45.708419Z",
     "shell.execute_reply": "2023-02-21T19:24:45.707377Z",
     "shell.execute_reply.started": "2023-02-21T19:24:45.685447Z"
    }
   },
   "outputs": [
    {
     "name": "stdout",
     "output_type": "stream",
     "text": [
      "15\n",
      "15\n",
      "15\n",
      "15\n"
     ]
    }
   ],
   "source": [
    "# Drop the rows containing null values created due to creation of lags\n",
    "for i in range(4):\n",
    "    print(len(train[0][train[0][train[0]['is_test'] == 0].isna().sum(axis=1)>0]))"
   ]
  },
  {
   "cell_type": "markdown",
   "metadata": {},
   "source": [
    "Therefore, first 15 rows of each dataframes need to be dropped"
   ]
  },
  {
   "cell_type": "code",
   "execution_count": 327,
   "metadata": {
    "execution": {
     "iopub.execute_input": "2023-02-21T19:24:45.710149Z",
     "iopub.status.busy": "2023-02-21T19:24:45.709810Z",
     "iopub.status.idle": "2023-02-21T19:24:45.733834Z",
     "shell.execute_reply": "2023-02-21T19:24:45.732720Z",
     "shell.execute_reply.started": "2023-02-21T19:24:45.710119Z"
    }
   },
   "outputs": [
    {
     "name": "stdout",
     "output_type": "stream",
     "text": [
      "0\n",
      "0\n",
      "0\n",
      "0\n"
     ]
    }
   ],
   "source": [
    "for i in range(4):\n",
    "    train[i] = train[i].iloc[15:]\n",
    "    print(len(train[0][train[0][train[0]['is_test'] == 0].isna().sum(axis=1)>0])) # check if these rows have been dropped successfully"
   ]
  },
  {
   "cell_type": "code",
   "execution_count": 328,
   "metadata": {
    "execution": {
     "iopub.execute_input": "2023-02-21T19:24:45.735603Z",
     "iopub.status.busy": "2023-02-21T19:24:45.735228Z",
     "iopub.status.idle": "2023-02-21T19:24:45.742399Z",
     "shell.execute_reply": "2023-02-21T19:24:45.741599Z",
     "shell.execute_reply.started": "2023-02-21T19:24:45.735571Z"
    }
   },
   "outputs": [
    {
     "data": {
      "text/plain": [
       "Index(['Open', 'High', 'Low', 'Adj Close', 'is_test', 'Lag_Open_1',\n",
       "       'Lag_Adj_Close_1', 'Lag_Open_2', 'Lag_Adj_Close_2', 'Lag_Open_3',\n",
       "       ...\n",
       "       'Volume_scaled', 'month_sin', 'month_cos', 'day_sin', 'day_cos',\n",
       "       'date_sin', 'date_cos', 'week_sin', 'week_cos', 'Close'],\n",
       "      dtype='object', length=103)"
      ]
     },
     "execution_count": 328,
     "metadata": {},
     "output_type": "execute_result"
    }
   ],
   "source": [
    "train[0].columns"
   ]
  },
  {
   "cell_type": "markdown",
   "metadata": {},
   "source": [
    "#### Preprocessing of the data has been completed."
   ]
  },
  {
   "cell_type": "markdown",
   "metadata": {},
   "source": [
    "#### 2.2 MI score for feature selection and creation"
   ]
  },
  {
   "cell_type": "code",
   "execution_count": 329,
   "metadata": {
    "execution": {
     "iopub.execute_input": "2023-02-21T19:24:45.744799Z",
     "iopub.status.busy": "2023-02-21T19:24:45.744002Z",
     "iopub.status.idle": "2023-02-21T19:24:45.776082Z",
     "shell.execute_reply": "2023-02-21T19:24:45.774857Z",
     "shell.execute_reply.started": "2023-02-21T19:24:45.744763Z"
    }
   },
   "outputs": [],
   "source": [
    "# Separating train and test dataframes\n",
    "tests = []\n",
    "for i in range(4):\n",
    "    tests.append(train[i][train[i]['is_test'] == 1])\n",
    "    train[i] = train[i][train[i]['is_test'] == 0]\n",
    "    tests[i].drop(['is_test'], axis=1, inplace=True)\n",
    "    train[i].drop(['is_test'], axis=1, inplace=True)"
   ]
  },
  {
   "cell_type": "code",
   "execution_count": 330,
   "metadata": {
    "execution": {
     "iopub.execute_input": "2023-02-21T19:24:45.778139Z",
     "iopub.status.busy": "2023-02-21T19:24:45.777720Z",
     "iopub.status.idle": "2023-02-21T19:24:51.506459Z",
     "shell.execute_reply": "2023-02-21T19:24:51.505235Z",
     "shell.execute_reply.started": "2023-02-21T19:24:45.778105Z"
    }
   },
   "outputs": [],
   "source": [
    "# Calculating MI score for the features\n",
    "from sklearn.feature_selection import mutual_info_regression\n",
    "\n",
    "mi_score = []\n",
    "\n",
    "for i in range(4):\n",
    "    mi_score.append(mutual_info_regression(train[i].drop(['Close'], 1), train[i]['Close']))"
   ]
  },
  {
   "cell_type": "code",
   "execution_count": 331,
   "metadata": {
    "execution": {
     "iopub.execute_input": "2023-02-21T19:24:51.508609Z",
     "iopub.status.busy": "2023-02-21T19:24:51.508143Z",
     "iopub.status.idle": "2023-02-21T19:24:51.522597Z",
     "shell.execute_reply": "2023-02-21T19:24:51.521323Z",
     "shell.execute_reply.started": "2023-02-21T19:24:51.508560Z"
    },
    "scrolled": true
   },
   "outputs": [
    {
     "name": "stdout",
     "output_type": "stream",
     "text": [
      "=======Company 1=======\n",
      "Lag_Volume : 0.6433030484711031\n",
      "Lag_Volume_1 : 0.5654562348658789\n",
      "Lag_Volume_2 : 0.5542382314754004\n",
      "Lag_Volume_3 : 0.5521934377114226\n",
      "Lag_Volume_4 : 0.5600742143400002\n",
      "Lag_Volume_5 : 0.551254936008732\n",
      "Lag_Volume_6 : 0.5787504431741635\n",
      "Lag_Volume_7 : 0.5458358598245914\n",
      "Lag_Volume_8 : 0.5440673170007688\n",
      "Lag_Volume_9 : 0.5410247828824293\n",
      "Lag_Volume_10 : 0.5441720202328781\n",
      "Lag_Volume_11 : 0.5594936763031244\n",
      "Lag_Volume_12 : 0.5606422847196839\n",
      "Lag_Volume_13 : 0.55455620662927\n",
      "Lag_Volume_14 : 0.5405729273855044\n",
      "Lag_Volume_15 : 0.5798074027173996\n",
      "Day_of_Week : 0.0\n",
      "Date_of_Month : 0.0\n",
      "Week_of_Year : 1.2107724505732134\n",
      "Year : 1.7509207296576845\n",
      "Quarter_of_Year : 0.4591092753699859\n",
      "is_month_start : 0.0\n",
      "is_month_end : 0.000803791973549739\n",
      "is_quarter_start : 0.0\n",
      "is_quarter_end : 0.00023699989742720362\n",
      "is_year_end : 0.0009579474694760837\n",
      "Volume_scaled : 0.5772677510610604\n",
      "month_sin : 0.5453791435693667\n",
      "month_cos : 0.5002019504107924\n",
      "day_sin : 0.0\n",
      "day_cos : 0.0\n",
      "date_sin : 0.0\n",
      "date_cos : 0.0\n",
      "week_sin : 1.1211360202846126\n",
      "week_cos : 1.120346335442418\n",
      "=======Company 2=======\n",
      "Lag_Volume : 0.26500556251122376\n",
      "Lag_Volume_1 : 0.19555211794197902\n",
      "Lag_Volume_2 : 0.20297443150922856\n",
      "Lag_Volume_3 : 0.1991943238318843\n",
      "Lag_Volume_4 : 0.20991956342385976\n",
      "Lag_Volume_5 : 0.2071973877554898\n",
      "Lag_Volume_6 : 0.2064860247570035\n",
      "Lag_Volume_7 : 0.20746189245023317\n",
      "Lag_Volume_8 : 0.19850453177994165\n",
      "Lag_Volume_9 : 0.19969633640191908\n",
      "Lag_Volume_10 : 0.1824536351931334\n",
      "Lag_Volume_11 : 0.18769326936178476\n",
      "Lag_Volume_12 : 0.19866734437442268\n",
      "Lag_Volume_13 : 0.19352102045919128\n",
      "Lag_Volume_14 : 0.18260529562487005\n",
      "Lag_Volume_15 : 0.18678825361026608\n",
      "Day_of_Week : 0.0\n",
      "Date_of_Month : 0.0\n",
      "Week_of_Year : 1.242948309325841\n",
      "Year : 1.8523226195311029\n",
      "Quarter_of_Year : 0.5025356076713245\n",
      "is_month_start : 0.0\n",
      "is_month_end : 0.0\n",
      "is_quarter_start : 0.0\n",
      "is_quarter_end : 0.0\n",
      "is_year_end : 0.0\n",
      "Volume_scaled : 0.1895407819298347\n",
      "month_sin : 0.5884088409302652\n",
      "month_cos : 0.5406391797578065\n",
      "day_sin : 0.0\n",
      "day_cos : 0.0\n",
      "date_sin : 0.0\n",
      "date_cos : 0.0\n",
      "week_sin : 1.140082790834077\n",
      "week_cos : 1.1413638970886364\n",
      "=======Company 3=======\n",
      "Lag_Volume : 0.21260324230220284\n",
      "Lag_Volume_1 : 0.1743687790467492\n",
      "Lag_Volume_2 : 0.18751221689956665\n",
      "Lag_Volume_3 : 0.21650581738629704\n",
      "Lag_Volume_4 : 0.1731371318680166\n",
      "Lag_Volume_5 : 0.19229030905468392\n",
      "Lag_Volume_6 : 0.18072285087538642\n",
      "Lag_Volume_7 : 0.1718869401275196\n",
      "Lag_Volume_8 : 0.1854724109751098\n",
      "Lag_Volume_9 : 0.18268818126017639\n",
      "Lag_Volume_10 : 0.1572189887452815\n",
      "Lag_Volume_11 : 0.16630182857264764\n",
      "Lag_Volume_12 : 0.16662950882314576\n",
      "Lag_Volume_13 : 0.15477417251590797\n",
      "Lag_Volume_14 : 0.16037754019566552\n",
      "Lag_Volume_15 : 0.1475634343967922\n",
      "Day_of_Week : 0.0\n",
      "Date_of_Month : 0.0\n",
      "Week_of_Year : 0.933048000223395\n",
      "Year : 1.568049667120121\n",
      "Quarter_of_Year : 0.3843967669477608\n",
      "is_month_start : 0.0\n",
      "is_month_end : 0.0\n",
      "is_quarter_start : 0.007191933272071793\n",
      "is_quarter_end : 0.0011037596209506617\n",
      "is_year_end : 0.00041588888150223546\n",
      "Volume_scaled : 0.1688088152627536\n",
      "month_sin : 0.41780199096851955\n",
      "month_cos : 0.4429042053617134\n",
      "day_sin : 0.0\n",
      "day_cos : 0.0\n",
      "date_sin : 0.0\n",
      "date_cos : 0.0\n",
      "week_sin : 0.8454632583903834\n",
      "week_cos : 0.8443518929542213\n",
      "=======Company 4=======\n",
      "Lag_Open_1 : 1.596626181127362\n",
      "Lag_Adj_Close_1 : 1.6567124391135746\n",
      "Lag_Open_2 : 1.4183466210853082\n",
      "Lag_Adj_Close_2 : 1.4120215227955253\n",
      "Lag_Open_3 : 1.3001791459686278\n",
      "Lag_Adj_Close_3 : 1.3349485017214127\n",
      "Lag_Open_4 : 1.2538446260479885\n",
      "Lag_Adj_Close_4 : 1.2427944957597052\n",
      "Lag_Open_5 : 1.2222614161317975\n",
      "Lag_Adj_Close_5 : 1.2237414405926348\n",
      "Lag_Open_6 : 1.1847804947790408\n",
      "Lag_Adj_Close_6 : 1.2232682915785875\n",
      "Lag_Open_7 : 1.1507670964208505\n",
      "Lag_Adj_Close_7 : 1.1580743689604702\n",
      "Lag_Open_8 : 1.1131098729374744\n",
      "Lag_Adj_Close_8 : 1.1397229138311862\n",
      "Lag_Open_9 : 1.1402422996345636\n",
      "Lag_Adj_Close_9 : 1.1531575700329566\n",
      "Lag_Open_10 : 1.0851055486629684\n",
      "Lag_Adj_Close_10 : 1.1421539566870167\n",
      "Lag_Open_11 : 1.1268331028949183\n",
      "Lag_Adj_Close_11 : 1.1397004975809741\n",
      "Lag_Open_12 : 1.1228234445975547\n",
      "Lag_Adj_Close_12 : 1.107375149752999\n",
      "Lag_Open_13 : 1.146170090512868\n",
      "Lag_Adj_Close_13 : 1.1313711788339074\n",
      "Lag_Open_14 : 1.1136587402362186\n",
      "Lag_Adj_Close_14 : 1.1177952715044008\n",
      "Lag_Open_15 : 1.1542710528820814\n",
      "Lag_Adj_Close_15 : 1.1661712937046471\n",
      "Lag_Volume : 0.6232094089222961\n",
      "Lag_Volume_1 : 0.5687070885856675\n",
      "Lag_High_1 : 1.6007239936360995\n",
      "Lag_Low_1 : 1.6264195607779883\n",
      "Lag_Volume_2 : 0.5480118060200958\n",
      "Lag_High_2 : 1.4350668002167049\n",
      "Lag_Low_2 : 1.4381725770118536\n",
      "Lag_Volume_3 : 0.5373494820616411\n",
      "Lag_High_3 : 1.310839726796615\n",
      "Lag_Low_3 : 1.305848605780798\n",
      "Lag_Volume_4 : 0.5138390413783922\n",
      "Lag_High_4 : 1.2485711012406946\n",
      "Lag_Low_4 : 1.2742803519129349\n",
      "Lag_Volume_5 : 0.4838623934048112\n",
      "Lag_High_5 : 1.232846118583201\n",
      "Lag_Low_5 : 1.225052603803427\n",
      "Lag_Volume_6 : 0.4874417828418176\n",
      "Lag_High_6 : 1.2078840950197787\n",
      "Lag_Low_6 : 1.2141207540881696\n",
      "Lag_Volume_7 : 0.49355937551432927\n",
      "Lag_High_7 : 1.1759901060962212\n",
      "Lag_Low_7 : 1.1672718449153234\n",
      "Lag_Volume_8 : 0.5111722504599294\n",
      "Lag_High_8 : 1.135735102365024\n",
      "Lag_Low_8 : 1.1205408357577529\n",
      "Lag_Volume_9 : 0.44480134930756865\n",
      "Lag_High_9 : 1.1415674609306952\n",
      "Lag_Low_9 : 1.1387677152600064\n",
      "Lag_Volume_10 : 0.4948834134831648\n",
      "Lag_High_10 : 1.1189411527104767\n",
      "Lag_Low_10 : 1.1281956191938436\n",
      "Lag_Volume_11 : 0.4883150951400692\n",
      "Lag_High_11 : 1.1378913137610165\n",
      "Lag_Low_11 : 1.1301865750870679\n",
      "Lag_Volume_12 : 0.4941660588279735\n",
      "Lag_High_12 : 1.1365731557330045\n",
      "Lag_Low_12 : 1.166265667398641\n",
      "Lag_Volume_13 : 0.4894418876666151\n",
      "Lag_High_13 : 1.132963695933182\n",
      "Lag_Low_13 : 1.1232638870492133\n",
      "Lag_Volume_14 : 0.5005656734575403\n",
      "Lag_High_14 : 1.1462818491814653\n",
      "Lag_Low_14 : 1.1199920846349634\n",
      "Lag_Volume_15 : 0.4534056334798633\n",
      "Lag_High_15 : 1.1461475354614024\n",
      "Lag_Low_15 : 1.1964751201721828\n",
      "Day_of_Week : 0.0\n",
      "Date_of_Month : 0.21484570757228028\n",
      "Week_of_Year : 0.36337279196903616\n",
      "Year : 1.3769471653928258\n",
      "Quarter_of_Year : 0.09044956755507672\n",
      "is_month_start : 0.02652436467743624\n",
      "is_month_end : 0.001709700810252457\n",
      "is_quarter_start : 0.00737849074280561\n",
      "is_quarter_end : 0.0\n",
      "is_year_end : 0.0\n",
      "Volume_scaled : 0.6262181645150644\n",
      "month_sin : 0.1537525559418893\n",
      "month_cos : 0.10674700104816948\n",
      "day_sin : 0.0\n",
      "day_cos : 0.0\n",
      "date_sin : 0.19145402377693443\n",
      "date_cos : 0.192313417030201\n",
      "week_sin : 0.3330335543772449\n",
      "week_cos : 0.3329167999987446\n"
     ]
    }
   ],
   "source": [
    "# Generating a list of columns to drop\n",
    "cols_to_drop = []\n",
    "for i in range(4):  \n",
    "    inner_list = []\n",
    "    print(f\"=======Company {i+1}=======\")\n",
    "    for j in range(len(train[i].columns)-1):\n",
    "        if mi_score[i][j]<2:\n",
    "            inner_list.append(train[i].columns[j])\n",
    "            print(train[i].columns[j], \":\", mi_score[i][j])\n",
    "    cols_to_drop.append(inner_list)"
   ]
  },
  {
   "cell_type": "code",
   "execution_count": 332,
   "metadata": {
    "execution": {
     "iopub.execute_input": "2023-02-21T19:24:51.524768Z",
     "iopub.status.busy": "2023-02-21T19:24:51.524262Z",
     "iopub.status.idle": "2023-02-21T19:24:51.542214Z",
     "shell.execute_reply": "2023-02-21T19:24:51.540994Z",
     "shell.execute_reply.started": "2023-02-21T19:24:51.524712Z"
    }
   },
   "outputs": [],
   "source": [
    "# Dropping the above listed features\n",
    "for i in range(4):\n",
    "    train[i].drop(cols_to_drop[i], 1, inplace=True)\n",
    "    tests[i].drop(cols_to_drop[i], 1, inplace=True)"
   ]
  },
  {
   "cell_type": "code",
   "execution_count": 333,
   "metadata": {
    "execution": {
     "iopub.execute_input": "2023-02-21T19:24:51.544841Z",
     "iopub.status.busy": "2023-02-21T19:24:51.543714Z",
     "iopub.status.idle": "2023-02-21T19:24:51.576864Z",
     "shell.execute_reply": "2023-02-21T19:24:51.575733Z",
     "shell.execute_reply.started": "2023-02-21T19:24:51.544806Z"
    }
   },
   "outputs": [
    {
     "data": {
      "text/html": [
       "<div>\n",
       "<style scoped>\n",
       "    .dataframe tbody tr th:only-of-type {\n",
       "        vertical-align: middle;\n",
       "    }\n",
       "\n",
       "    .dataframe tbody tr th {\n",
       "        vertical-align: top;\n",
       "    }\n",
       "\n",
       "    .dataframe thead th {\n",
       "        text-align: right;\n",
       "    }\n",
       "</style>\n",
       "<table border=\"1\" class=\"dataframe\">\n",
       "  <thead>\n",
       "    <tr style=\"text-align: right;\">\n",
       "      <th></th>\n",
       "      <th>Open</th>\n",
       "      <th>High</th>\n",
       "      <th>Low</th>\n",
       "      <th>Adj Close</th>\n",
       "      <th>Lag_Open_1</th>\n",
       "      <th>Lag_Adj_Close_1</th>\n",
       "      <th>Lag_Open_2</th>\n",
       "      <th>Lag_Adj_Close_2</th>\n",
       "      <th>Lag_Open_3</th>\n",
       "      <th>Lag_Adj_Close_3</th>\n",
       "      <th>...</th>\n",
       "      <th>Lag_Low_12</th>\n",
       "      <th>Lag_High_13</th>\n",
       "      <th>Lag_Low_13</th>\n",
       "      <th>Lag_High_14</th>\n",
       "      <th>Lag_Low_14</th>\n",
       "      <th>Lag_High_15</th>\n",
       "      <th>Lag_Low_15</th>\n",
       "      <th>HighnLow</th>\n",
       "      <th>sqrtHighLow</th>\n",
       "      <th>Close</th>\n",
       "    </tr>\n",
       "  </thead>\n",
       "  <tbody>\n",
       "    <tr>\n",
       "      <th>15</th>\n",
       "      <td>9.67</td>\n",
       "      <td>9.44</td>\n",
       "      <td>9.12</td>\n",
       "      <td>7.75</td>\n",
       "      <td>8.63</td>\n",
       "      <td>7.63</td>\n",
       "      <td>8.86</td>\n",
       "      <td>7.49</td>\n",
       "      <td>8.92</td>\n",
       "      <td>7.59</td>\n",
       "      <td>...</td>\n",
       "      <td>8.74</td>\n",
       "      <td>9.02</td>\n",
       "      <td>8.63</td>\n",
       "      <td>9.22</td>\n",
       "      <td>9.00</td>\n",
       "      <td>9.47</td>\n",
       "      <td>9.23</td>\n",
       "      <td>9.280</td>\n",
       "      <td>9.278621</td>\n",
       "      <td>9.22</td>\n",
       "    </tr>\n",
       "    <tr>\n",
       "      <th>16</th>\n",
       "      <td>9.07</td>\n",
       "      <td>9.30</td>\n",
       "      <td>8.97</td>\n",
       "      <td>8.01</td>\n",
       "      <td>9.67</td>\n",
       "      <td>7.75</td>\n",
       "      <td>8.63</td>\n",
       "      <td>7.63</td>\n",
       "      <td>8.86</td>\n",
       "      <td>7.49</td>\n",
       "      <td>...</td>\n",
       "      <td>8.61</td>\n",
       "      <td>8.96</td>\n",
       "      <td>8.74</td>\n",
       "      <td>9.02</td>\n",
       "      <td>8.63</td>\n",
       "      <td>9.22</td>\n",
       "      <td>9.00</td>\n",
       "      <td>9.135</td>\n",
       "      <td>9.133510</td>\n",
       "      <td>9.30</td>\n",
       "    </tr>\n",
       "    <tr>\n",
       "      <th>17</th>\n",
       "      <td>9.25</td>\n",
       "      <td>9.31</td>\n",
       "      <td>9.14</td>\n",
       "      <td>7.93</td>\n",
       "      <td>9.07</td>\n",
       "      <td>8.01</td>\n",
       "      <td>9.67</td>\n",
       "      <td>7.75</td>\n",
       "      <td>8.63</td>\n",
       "      <td>7.63</td>\n",
       "      <td>...</td>\n",
       "      <td>8.99</td>\n",
       "      <td>9.13</td>\n",
       "      <td>8.61</td>\n",
       "      <td>8.96</td>\n",
       "      <td>8.74</td>\n",
       "      <td>9.02</td>\n",
       "      <td>8.63</td>\n",
       "      <td>9.225</td>\n",
       "      <td>9.224608</td>\n",
       "      <td>9.06</td>\n",
       "    </tr>\n",
       "    <tr>\n",
       "      <th>18</th>\n",
       "      <td>9.24</td>\n",
       "      <td>9.34</td>\n",
       "      <td>9.33</td>\n",
       "      <td>7.95</td>\n",
       "      <td>9.25</td>\n",
       "      <td>7.93</td>\n",
       "      <td>9.07</td>\n",
       "      <td>8.01</td>\n",
       "      <td>9.67</td>\n",
       "      <td>7.75</td>\n",
       "      <td>...</td>\n",
       "      <td>9.09</td>\n",
       "      <td>9.36</td>\n",
       "      <td>8.99</td>\n",
       "      <td>9.13</td>\n",
       "      <td>8.61</td>\n",
       "      <td>8.96</td>\n",
       "      <td>8.74</td>\n",
       "      <td>9.335</td>\n",
       "      <td>9.334999</td>\n",
       "      <td>9.56</td>\n",
       "    </tr>\n",
       "    <tr>\n",
       "      <th>19</th>\n",
       "      <td>9.61</td>\n",
       "      <td>9.51</td>\n",
       "      <td>9.27</td>\n",
       "      <td>8.09</td>\n",
       "      <td>9.24</td>\n",
       "      <td>7.95</td>\n",
       "      <td>9.25</td>\n",
       "      <td>7.93</td>\n",
       "      <td>9.07</td>\n",
       "      <td>8.01</td>\n",
       "      <td>...</td>\n",
       "      <td>8.95</td>\n",
       "      <td>9.38</td>\n",
       "      <td>9.09</td>\n",
       "      <td>9.36</td>\n",
       "      <td>8.99</td>\n",
       "      <td>9.13</td>\n",
       "      <td>8.61</td>\n",
       "      <td>9.390</td>\n",
       "      <td>9.389233</td>\n",
       "      <td>9.29</td>\n",
       "    </tr>\n",
       "  </tbody>\n",
       "</table>\n",
       "<p>5 rows × 67 columns</p>\n",
       "</div>"
      ],
      "text/plain": [
       "    Open  High   Low  Adj Close  Lag_Open_1  Lag_Adj_Close_1  Lag_Open_2  \\\n",
       "15  9.67  9.44  9.12       7.75        8.63             7.63        8.86   \n",
       "16  9.07  9.30  8.97       8.01        9.67             7.75        8.63   \n",
       "17  9.25  9.31  9.14       7.93        9.07             8.01        9.67   \n",
       "18  9.24  9.34  9.33       7.95        9.25             7.93        9.07   \n",
       "19  9.61  9.51  9.27       8.09        9.24             7.95        9.25   \n",
       "\n",
       "    Lag_Adj_Close_2  Lag_Open_3  Lag_Adj_Close_3  ...  Lag_Low_12  \\\n",
       "15             7.49        8.92             7.59  ...        8.74   \n",
       "16             7.63        8.86             7.49  ...        8.61   \n",
       "17             7.75        8.63             7.63  ...        8.99   \n",
       "18             8.01        9.67             7.75  ...        9.09   \n",
       "19             7.93        9.07             8.01  ...        8.95   \n",
       "\n",
       "    Lag_High_13  Lag_Low_13  Lag_High_14  Lag_Low_14  Lag_High_15  Lag_Low_15  \\\n",
       "15         9.02        8.63         9.22        9.00         9.47        9.23   \n",
       "16         8.96        8.74         9.02        8.63         9.22        9.00   \n",
       "17         9.13        8.61         8.96        8.74         9.02        8.63   \n",
       "18         9.36        8.99         9.13        8.61         8.96        8.74   \n",
       "19         9.38        9.09         9.36        8.99         9.13        8.61   \n",
       "\n",
       "    HighnLow  sqrtHighLow  Close  \n",
       "15     9.280     9.278621   9.22  \n",
       "16     9.135     9.133510   9.30  \n",
       "17     9.225     9.224608   9.06  \n",
       "18     9.335     9.334999   9.56  \n",
       "19     9.390     9.389233   9.29  \n",
       "\n",
       "[5 rows x 67 columns]"
      ]
     },
     "execution_count": 333,
     "metadata": {},
     "output_type": "execute_result"
    }
   ],
   "source": [
    "train[0].head()"
   ]
  },
  {
   "cell_type": "code",
   "execution_count": 334,
   "metadata": {
    "execution": {
     "iopub.execute_input": "2023-02-21T19:24:51.583823Z",
     "iopub.status.busy": "2023-02-21T19:24:51.582810Z",
     "iopub.status.idle": "2023-02-21T19:24:51.591614Z",
     "shell.execute_reply": "2023-02-21T19:24:51.590326Z",
     "shell.execute_reply.started": "2023-02-21T19:24:51.583772Z"
    }
   },
   "outputs": [
    {
     "data": {
      "text/plain": [
       "(2515, 67)"
      ]
     },
     "execution_count": 334,
     "metadata": {},
     "output_type": "execute_result"
    }
   ],
   "source": [
    "train[0].shape"
   ]
  },
  {
   "cell_type": "code",
   "execution_count": 335,
   "metadata": {
    "execution": {
     "iopub.execute_input": "2023-02-21T19:24:51.593923Z",
     "iopub.status.busy": "2023-02-21T19:24:51.593185Z",
     "iopub.status.idle": "2023-02-21T19:24:51.697670Z",
     "shell.execute_reply": "2023-02-21T19:24:51.696493Z",
     "shell.execute_reply.started": "2023-02-21T19:24:51.593879Z"
    }
   },
   "outputs": [],
   "source": [
    "corrs = []\n",
    "for i in range(4):\n",
    "    corrs.append(train[i].corr())"
   ]
  },
  {
   "cell_type": "code",
   "execution_count": 336,
   "metadata": {
    "execution": {
     "iopub.execute_input": "2023-02-21T19:24:51.699675Z",
     "iopub.status.busy": "2023-02-21T19:24:51.699308Z",
     "iopub.status.idle": "2023-02-21T19:24:51.714558Z",
     "shell.execute_reply": "2023-02-21T19:24:51.713468Z",
     "shell.execute_reply.started": "2023-02-21T19:24:51.699641Z"
    }
   },
   "outputs": [
    {
     "data": {
      "text/html": [
       "<div>\n",
       "<style scoped>\n",
       "    .dataframe tbody tr th:only-of-type {\n",
       "        vertical-align: middle;\n",
       "    }\n",
       "\n",
       "    .dataframe tbody tr th {\n",
       "        vertical-align: top;\n",
       "    }\n",
       "\n",
       "    .dataframe thead th {\n",
       "        text-align: right;\n",
       "    }\n",
       "</style>\n",
       "<table border=\"1\" class=\"dataframe\">\n",
       "  <thead>\n",
       "    <tr style=\"text-align: right;\">\n",
       "      <th></th>\n",
       "      <th>Open</th>\n",
       "      <th>High</th>\n",
       "      <th>Low</th>\n",
       "      <th>Adj Close</th>\n",
       "      <th>Lag_Open_1</th>\n",
       "      <th>Lag_Adj_Close_1</th>\n",
       "      <th>Lag_Open_2</th>\n",
       "      <th>Lag_Adj_Close_2</th>\n",
       "      <th>Lag_Open_3</th>\n",
       "      <th>Lag_Adj_Close_3</th>\n",
       "      <th>...</th>\n",
       "      <th>Lag_Low_12</th>\n",
       "      <th>Lag_High_13</th>\n",
       "      <th>Lag_Low_13</th>\n",
       "      <th>Lag_High_14</th>\n",
       "      <th>Lag_Low_14</th>\n",
       "      <th>Lag_High_15</th>\n",
       "      <th>Lag_Low_15</th>\n",
       "      <th>HighnLow</th>\n",
       "      <th>sqrtHighLow</th>\n",
       "      <th>Close</th>\n",
       "    </tr>\n",
       "  </thead>\n",
       "  <tbody>\n",
       "  </tbody>\n",
       "</table>\n",
       "<p>0 rows × 67 columns</p>\n",
       "</div>"
      ],
      "text/plain": [
       "Empty DataFrame\n",
       "Columns: [Open, High, Low, Adj Close, Lag_Open_1, Lag_Adj_Close_1, Lag_Open_2, Lag_Adj_Close_2, Lag_Open_3, Lag_Adj_Close_3, Lag_Open_4, Lag_Adj_Close_4, Lag_Open_5, Lag_Adj_Close_5, Lag_Open_6, Lag_Adj_Close_6, Lag_Open_7, Lag_Adj_Close_7, Lag_Open_8, Lag_Adj_Close_8, Lag_Open_9, Lag_Adj_Close_9, Lag_Open_10, Lag_Adj_Close_10, Lag_Open_11, Lag_Adj_Close_11, Lag_Open_12, Lag_Adj_Close_12, Lag_Open_13, Lag_Adj_Close_13, Lag_Open_14, Lag_Adj_Close_14, Lag_Open_15, Lag_Adj_Close_15, Lag_High_1, Lag_Low_1, Lag_High_2, Lag_Low_2, Lag_High_3, Lag_Low_3, Lag_High_4, Lag_Low_4, Lag_High_5, Lag_Low_5, Lag_High_6, Lag_Low_6, Lag_High_7, Lag_Low_7, Lag_High_8, Lag_Low_8, Lag_High_9, Lag_Low_9, Lag_High_10, Lag_Low_10, Lag_High_11, Lag_Low_11, Lag_High_12, Lag_Low_12, Lag_High_13, Lag_Low_13, Lag_High_14, Lag_Low_14, Lag_High_15, Lag_Low_15, HighnLow, sqrtHighLow, Close]\n",
       "Index: []\n",
       "\n",
       "[0 rows x 67 columns]"
      ]
     },
     "execution_count": 336,
     "metadata": {},
     "output_type": "execute_result"
    }
   ],
   "source": [
    "corrs[0][abs(corrs[0]['Close'])<0.01] # ['Day_of_Week', 'Date_of_Month', 'is_month_start', 'is_month_end', \n",
    "# 'is_quarter_start', 'is_quarter_end', 'is_year_start', is_year_end']"
   ]
  },
  {
   "cell_type": "markdown",
   "metadata": {},
   "source": [
    "# <span><h1 style = \"font-family: garamond; font-size: 40px; font-style: normal; letter-spcaing: 3px; background-color: #f6f5f5; color :#fe346e; border-radius: 100px 100px; text-align:center\">3. Creating Train-Val-Test splits</h1></span>"
   ]
  },
  {
   "cell_type": "code",
   "execution_count": 337,
   "metadata": {
    "execution": {
     "iopub.execute_input": "2023-02-21T19:24:51.716559Z",
     "iopub.status.busy": "2023-02-21T19:24:51.716099Z",
     "iopub.status.idle": "2023-02-21T19:24:51.738676Z",
     "shell.execute_reply": "2023-02-21T19:24:51.737520Z",
     "shell.execute_reply.started": "2023-02-21T19:24:51.716527Z"
    }
   },
   "outputs": [],
   "source": [
    "from sklearn.model_selection import train_test_split\n",
    "\n",
    "X_train = []\n",
    "y_train = []\n",
    "X_val = []\n",
    "y_val = []\n",
    "\n",
    "for i in range(4):\n",
    "    X1, X2, y1, y2 = train_test_split(train[i].drop(['Close'], axis=1),\n",
    "                                                        train[i]['Close'],\n",
    "                                                        test_size=0.2,\n",
    "                                                        random_state=42)\n",
    "    X_train.append(X1)\n",
    "    X_val.append(X2)\n",
    "    y_train.append(y1)\n",
    "    y_val.append(y2)"
   ]
  },
  {
   "cell_type": "code",
   "execution_count": 338,
   "metadata": {
    "execution": {
     "iopub.execute_input": "2023-02-21T19:24:51.741282Z",
     "iopub.status.busy": "2023-02-21T19:24:51.740801Z",
     "iopub.status.idle": "2023-02-21T19:24:51.748885Z",
     "shell.execute_reply": "2023-02-21T19:24:51.747991Z",
     "shell.execute_reply.started": "2023-02-21T19:24:51.741233Z"
    }
   },
   "outputs": [
    {
     "data": {
      "text/plain": [
       "((2012, 66), (2515, 67))"
      ]
     },
     "execution_count": 338,
     "metadata": {},
     "output_type": "execute_result"
    }
   ],
   "source": [
    "X_train[0].shape, train[0].shape"
   ]
  },
  {
   "cell_type": "markdown",
   "metadata": {},
   "source": [
    "# <span><h1 style = \"font-family: garamond; font-size: 40px; font-style: normal; letter-spcaing: 3px; background-color: #f6f5f5; color :#fe346e; border-radius: 100px 100px; text-align:center\">4. Training</h1></span>"
   ]
  },
  {
   "cell_type": "markdown",
   "metadata": {},
   "source": [
    "#### 1. Linear Regression"
   ]
  },
  {
   "cell_type": "code",
   "execution_count": 339,
   "metadata": {
    "execution": {
     "iopub.execute_input": "2023-02-21T19:24:51.750754Z",
     "iopub.status.busy": "2023-02-21T19:24:51.750306Z",
     "iopub.status.idle": "2023-02-21T19:24:51.996535Z",
     "shell.execute_reply": "2023-02-21T19:24:51.994800Z",
     "shell.execute_reply.started": "2023-02-21T19:24:51.750719Z"
    }
   },
   "outputs": [
    {
     "name": "stdout",
     "output_type": "stream",
     "text": [
      "TRAIN RMSE (Company 1):  0.6618539398970025\n",
      "VALIDATION RMSE (Company 1):  0.6647040808888375\n",
      "TRAIN RMSE (Company 2):  0.9753984704986942\n",
      "VALIDATION RMSE (Company 2):  0.9553529405279763\n",
      "TRAIN RMSE (Company 3):  0.8694079753260202\n",
      "VALIDATION RMSE (Company 3):  0.9333537308484467\n",
      "TRAIN RMSE (Company 4):  0.8276343662969439\n",
      "VALIDATION RMSE (Company 4):  0.849127464362089\n"
     ]
    }
   ],
   "source": [
    "models = []\n",
    "# actual target values\n",
    "train_actual = []\n",
    "val_actual = []\n",
    "# predictions of the model\n",
    "train_preds = [] \n",
    "val_preds = []\n",
    "\n",
    "for i in range(4):\n",
    "    model = LinearRegression()\n",
    "    model.fit(X_train[i], y_train[i])\n",
    "    models.append(model)\n",
    "    print(f\"TRAIN RMSE (Company {i+1}): \", mean_squared_error(model.predict(X_train[i]), y_train[i])**0.5)\n",
    "    print(f\"VALIDATION RMSE (Company {i+1}): \", mean_squared_error(model.predict(X_val[i]), y_val[i])**0.5)\n",
    "    train_preds.extend(model.predict(X_train[i]))\n",
    "    val_preds.extend(model.predict(X_val[i]))\n",
    "    train_actual.extend(y_train[i])\n",
    "    val_actual.extend(y_val[i])"
   ]
  },
  {
   "cell_type": "code",
   "execution_count": 340,
   "metadata": {
    "execution": {
     "iopub.execute_input": "2023-02-21T19:24:52.002187Z",
     "iopub.status.busy": "2023-02-21T19:24:51.999210Z",
     "iopub.status.idle": "2023-02-21T19:24:52.035381Z",
     "shell.execute_reply": "2023-02-21T19:24:52.033355Z",
     "shell.execute_reply.started": "2023-02-21T19:24:52.002108Z"
    }
   },
   "outputs": [
    {
     "name": "stdout",
     "output_type": "stream",
     "text": [
      "OVERALL TRAIN RMSE:  0.8411750242732796\n",
      "OVERALL VALIDATION RMSE:  0.8582973543225608\n"
     ]
    }
   ],
   "source": [
    "# Calculating overall scores of all 4 companies combined\n",
    "print(f\"OVERALL TRAIN RMSE: \", mean_squared_error(train_actual, train_preds)**0.5)\n",
    "print(f\"OVERALL VALIDATION RMSE: \", mean_squared_error(val_actual, val_preds)**0.5)"
   ]
  },
  {
   "cell_type": "code",
   "execution_count": 341,
   "metadata": {
    "execution": {
     "iopub.execute_input": "2023-02-21T19:24:52.050163Z",
     "iopub.status.busy": "2023-02-21T19:24:52.044158Z",
     "iopub.status.idle": "2023-02-21T19:24:52.095734Z",
     "shell.execute_reply": "2023-02-21T19:24:52.094079Z",
     "shell.execute_reply.started": "2023-02-21T19:24:52.050072Z"
    }
   },
   "outputs": [],
   "source": [
    "# Generating test predictions\n",
    "test_preds = []\n",
    "for i in range(4):\n",
    "    test_preds.extend(models[i].predict(tests[i].drop(['Close'], axis=1)))"
   ]
  },
  {
   "cell_type": "markdown",
   "metadata": {},
   "source": [
    "##### Creating submission file"
   ]
  },
  {
   "cell_type": "code",
   "execution_count": 342,
   "metadata": {
    "execution": {
     "iopub.execute_input": "2023-02-21T19:24:52.106289Z",
     "iopub.status.busy": "2023-02-21T19:24:52.103882Z",
     "iopub.status.idle": "2023-02-21T19:24:52.120336Z",
     "shell.execute_reply": "2023-02-21T19:24:52.118412Z",
     "shell.execute_reply.started": "2023-02-21T19:24:52.106239Z"
    }
   },
   "outputs": [],
   "source": [
    "sub['ID'] = test.sort_values(by=['Company', 'Date']).index\n",
    "sub['Close'] = test_preds"
   ]
  },
  {
   "cell_type": "code",
   "execution_count": 343,
   "metadata": {
    "execution": {
     "iopub.execute_input": "2023-02-21T19:24:52.123244Z",
     "iopub.status.busy": "2023-02-21T19:24:52.122350Z",
     "iopub.status.idle": "2023-02-21T19:24:52.149066Z",
     "shell.execute_reply": "2023-02-21T19:24:52.147377Z",
     "shell.execute_reply.started": "2023-02-21T19:24:52.123192Z"
    }
   },
   "outputs": [],
   "source": [
    "sub.to_csv('After_mi_score_nolead.csv', index=False)"
   ]
  },
  {
   "cell_type": "markdown",
   "metadata": {},
   "source": [
    "# <span><h1 style = \"font-family: garamond; font-size: 40px; font-style: normal; letter-spcaing: 3px; background-color: #f6f5f5; color :#fe346e; border-radius: 100px 100px; text-align:center\">2nd Model</h1></span>"
   ]
  },
  {
   "cell_type": "code",
   "execution_count": 344,
   "metadata": {
    "execution": {
     "iopub.execute_input": "2023-02-21T19:24:52.151655Z",
     "iopub.status.busy": "2023-02-21T19:24:52.150926Z",
     "iopub.status.idle": "2023-02-21T19:24:52.157347Z",
     "shell.execute_reply": "2023-02-21T19:24:52.156036Z",
     "shell.execute_reply.started": "2023-02-21T19:24:52.151610Z"
    }
   },
   "outputs": [],
   "source": [
    "# Define the list of training files\n",
    "train_files = ['/kaggle/input/kriti-stock-market-prediction/1_train.csv',\n",
    " '/kaggle/input/kriti-stock-market-prediction/2_train.csv',\n",
    "'/kaggle/input/kriti-stock-market-prediction/3_train.csv',\n",
    "'/kaggle/input/kriti-stock-market-prediction/4_train.csv']"
   ]
  },
  {
   "cell_type": "code",
   "execution_count": 345,
   "metadata": {
    "execution": {
     "iopub.execute_input": "2023-02-21T19:24:52.159857Z",
     "iopub.status.busy": "2023-02-21T19:24:52.159131Z",
     "iopub.status.idle": "2023-02-21T19:24:54.199040Z",
     "shell.execute_reply": "2023-02-21T19:24:54.197927Z",
     "shell.execute_reply.started": "2023-02-21T19:24:52.159809Z"
    }
   },
   "outputs": [
    {
     "name": "stdout",
     "output_type": "stream",
     "text": [
      "Company-1\n"
     ]
    },
    {
     "data": {
      "image/png": "[encoded data removed]",
      "text/plain": [
       "<Figure size 432x288 with 2 Axes>"
      ]
     },
     "metadata": {
      "needs_background": "light"
     },
     "output_type": "display_data"
    },
    {
     "name": "stdout",
     "output_type": "stream",
     "text": [
      "Company-2\n"
     ]
    },
    {
     "data": {
      "image/png": "[encoded data removed]",
      "text/plain": [
       "<Figure size 432x288 with 2 Axes>"
      ]
     },
     "metadata": {
      "needs_background": "light"
     },
     "output_type": "display_data"
    },
    {
     "name": "stdout",
     "output_type": "stream",
     "text": [
      "Company-3\n"
     ]
    },
    {
     "data": {
      "image/png": "[encoded data removed]",
      "text/plain": [
       "<Figure size 432x288 with 2 Axes>"
      ]
     },
     "metadata": {
      "needs_background": "light"
     },
     "output_type": "display_data"
    },
    {
     "name": "stdout",
     "output_type": "stream",
     "text": [
      "Company-4\n"
     ]
    },
    {
     "data": {
      "image/png": "[encoded data removed]",
      "text/plain": [
       "<Figure size 432x288 with 2 Axes>"
      ]
     },
     "metadata": {
      "needs_background": "light"
     },
     "output_type": "display_data"
    }
   ],
   "source": [
    "# Create an empty dictionary to store the models and scalers\n",
    "models = {}\n",
    "scalers={}\n",
    "\n",
    "for i, file in enumerate(train_files):\n",
    "    train_data = pd.read_csv(file)\n",
    "    print(\"Company-{}\".format(i+1))\n",
    "    dataplot = sns.heatmap(train_data.corr(), cmap=\"YlGnBu\", annot=True)\n",
    "    plt.show()"
   ]
  },
  {
   "cell_type": "markdown",
   "metadata": {},
   "source": [
    "From the correlation plot it is clear that we need to use only one among the heavily correlated features for prediction viz Adj Close."
   ]
  },
  {
   "cell_type": "code",
   "execution_count": 346,
   "metadata": {
    "execution": {
     "iopub.execute_input": "2023-02-21T19:24:54.201193Z",
     "iopub.status.busy": "2023-02-21T19:24:54.200386Z",
     "iopub.status.idle": "2023-02-21T19:24:54.238445Z",
     "shell.execute_reply": "2023-02-21T19:24:54.237591Z",
     "shell.execute_reply.started": "2023-02-21T19:24:54.201146Z"
    }
   },
   "outputs": [],
   "source": [
    "\n",
    "# Create an empty dictionary to store the models and scalers\n",
    "models = {}\n",
    "scalers={}\n",
    "# Loop through each training file\n",
    "for i, file in enumerate(train_files):\n",
    "\n",
    "    # Define the features\n",
    "    X_train = train_data[['Adj Close']]\n",
    "    sc={}\n",
    "    \n",
    "    min_max_scaler = preprocessing.MinMaxScaler()\n",
    "    X_train['Adj Close'] = min_max_scaler.fit_transform(X_train['Adj Close'].values.reshape(-1,1))\n",
    "    sc['Adj Close']=min_max_scaler\n",
    "    \n",
    "    \n",
    "    y_train = train_data['Close']\n",
    "    min_max_scaler = preprocessing.MinMaxScaler()\n",
    "    y_train = min_max_scaler.fit_transform(y_train.values.reshape(-1,1))\n",
    "    sc['Close']=min_max_scaler\n",
    "    \n",
    "    \n",
    "\n",
    "    # Create the linear regression model\n",
    "    model = LinearRegression()\n",
    "\n",
    "    # Fit the model to the training data\n",
    "    model.fit(X_train, y_train)\n",
    "    temp_preds = model.predict(X_train)\n",
    "    temp_preds = sc['Close'].inverse_transform(np.array([temp_preds]).reshape(1,-1))\n",
    "    X_train['close_preds'] = temp_preds[0]\n",
    "    X_train['Close'] = train_data['Close']\n",
    "    X_train['Adj Close'] = (sc['Adj Close'].inverse_transform(np.array([X_train['Adj Close']]).reshape(1,-1)))[0]\n",
    "\n",
    "    # Store the model in the dictionary using the company ID as the key\n",
    "    models[i+1] = model\n",
    "    scalers[i+1]=sc"
   ]
  },
  {
   "cell_type": "code",
   "execution_count": 347,
   "metadata": {
    "execution": {
     "iopub.execute_input": "2023-02-21T19:24:54.240878Z",
     "iopub.status.busy": "2023-02-21T19:24:54.240032Z",
     "iopub.status.idle": "2023-02-21T19:24:54.257416Z",
     "shell.execute_reply": "2023-02-21T19:24:54.256344Z",
     "shell.execute_reply.started": "2023-02-21T19:24:54.240830Z"
    }
   },
   "outputs": [],
   "source": [
    "# Load the testing data\n",
    "test_data = pd.read_csv('/kaggle/input/kriti-stock-market-prediction/test.csv')\n",
    "\n",
    "#Create a dataframe for the submission\n",
    "submission_df = pd.DataFrame(columns=['ID', 'Close'])\n",
    "submission_df['ID'] = test_data['ID']"
   ]
  },
  {
   "cell_type": "code",
   "execution_count": 348,
   "metadata": {
    "execution": {
     "iopub.execute_input": "2023-02-21T19:24:54.259623Z",
     "iopub.status.busy": "2023-02-21T19:24:54.259222Z",
     "iopub.status.idle": "2023-02-21T19:24:58.499458Z",
     "shell.execute_reply": "2023-02-21T19:24:58.497994Z",
     "shell.execute_reply.started": "2023-02-21T19:24:54.259588Z"
    }
   },
   "outputs": [],
   "source": [
    "# Loop through each row of the testing data\n",
    "for i, row in test_data.iterrows():\n",
    "    # Get the company ID\n",
    "    company_id = row['Company']\n",
    "    \n",
    "    # Get the corresponding model for the current company ID\n",
    "    model = models[company_id]\n",
    "    slr = scalers[company_id]\n",
    "\n",
    "    # Make predictions on the current row of testing data\n",
    "    X_test = row[['Adj Close']]\n",
    "    X_test['Adj Close']= slr['Adj Close'].transform(np.array([X_test['Adj Close']]).reshape(1,-1))\n",
    "    X_test = X_test[['Adj Close']].to_numpy().reshape(1, -1)\n",
    "    row_id = row['ID']\n",
    "    y_pred = model.predict(X_test)\n",
    "    y_pred = slr['Close'].inverse_transform(np.array([y_pred]).reshape(1,-1))\n",
    "    submission_df.loc[row_id, 'Close'] = y_pred[0]"
   ]
  },
  {
   "cell_type": "code",
   "execution_count": 349,
   "metadata": {
    "execution": {
     "iopub.execute_input": "2023-02-21T19:24:58.501377Z",
     "iopub.status.busy": "2023-02-21T19:24:58.501018Z",
     "iopub.status.idle": "2023-02-21T19:24:58.514123Z",
     "shell.execute_reply": "2023-02-21T19:24:58.513235Z",
     "shell.execute_reply.started": "2023-02-21T19:24:58.501342Z"
    }
   },
   "outputs": [],
   "source": [
    "submission_df.to_csv(\"submission_lr_AdjClose.csv\", index=False)"
   ]
  },
  {
   "cell_type": "markdown",
   "metadata": {},
   "source": [
    "# Ensembling"
   ]
  },
  {
   "cell_type": "code",
   "execution_count": 350,
   "metadata": {
    "execution": {
     "iopub.execute_input": "2023-02-21T19:24:58.516100Z",
     "iopub.status.busy": "2023-02-21T19:24:58.515743Z",
     "iopub.status.idle": "2023-02-21T19:24:58.524361Z",
     "shell.execute_reply": "2023-02-21T19:24:58.523371Z",
     "shell.execute_reply.started": "2023-02-21T19:24:58.516059Z"
    }
   },
   "outputs": [],
   "source": [
    "sub = sub.sort_values(['ID']).reset_index().drop(['index'], 1)"
   ]
  },
  {
   "cell_type": "code",
   "execution_count": 351,
   "metadata": {
    "execution": {
     "iopub.execute_input": "2023-02-21T19:24:58.526576Z",
     "iopub.status.busy": "2023-02-21T19:24:58.525674Z",
     "iopub.status.idle": "2023-02-21T19:24:58.543178Z",
     "shell.execute_reply": "2023-02-21T19:24:58.542247Z",
     "shell.execute_reply.started": "2023-02-21T19:24:58.526539Z"
    }
   },
   "outputs": [],
   "source": [
    "final = pd.DataFrame()\n",
    "final['ID'] = sub['ID']\n",
    "final['Close']=0.55*sub['Close']+0.45*submission_df['Close']"
   ]
  },
  {
   "cell_type": "code",
   "execution_count": null,
   "metadata": {},
   "outputs": [],
   "source": []
  }
 ],
 "metadata": {
  "kernelspec": {
   "display_name": "Python 3 (ipykernel)",
   "language": "python",
   "name": "python3"
  },
  "language_info": {
   "codemirror_mode": {
    "name": "ipython",
    "version": 3
   },
   "file_extension": ".py",
   "mimetype": "text/x-python",
   "name": "python",
   "nbconvert_exporter": "python",
   "pygments_lexer": "ipython3",
   "version": "3.10.6"
  }
 },
 "nbformat": 4,
 "nbformat_minor": 4
}
